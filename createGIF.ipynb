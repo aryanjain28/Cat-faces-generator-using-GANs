{
 "cells": [
  {
   "cell_type": "code",
   "execution_count": 83,
   "metadata": {},
   "outputs": [],
   "source": [
    "from PIL import Image, ImageDraw, ImageFont\n",
    "import os\n",
    "\n",
    "n = len(os.listdir('./examples/'))\n",
    "for i in range(n):\n",
    "\n",
    "    img = Image.open(f'./examples/IMAGE_EPOCH_{i}.png').convert('RGB')\n",
    "    draw = ImageDraw.Draw(img)\n",
    "\n",
    "    x, y = 10, 473\n",
    "    text = f\"Epoch {i}\"\n",
    "    font = ImageFont.truetype('arial.ttf', 40)\n",
    "    w, h = font.getsize(text)\n",
    "\n",
    "    draw.rectangle((x, y, x+w+10, y+h+5), fill='black')\n",
    "    draw.text((x, y), text, fill=(209, 239, 8), font=font)\n",
    "    img.save(f\"./labeledImage/IMAGE_EPOCH_{i:02d}.png\")"
   ]
  },
  {
   "cell_type": "code",
   "execution_count": 84,
   "metadata": {},
   "outputs": [],
   "source": [
    "import glob\n",
    "from PIL import Image\n",
    "\n",
    "fp_in = \"./labeledImage/IMAGE_EPOCH_*.png\"\n",
    "fp_out = \"./image.gif\"\n",
    "\n",
    "img, *imgs = [Image.open(f) for f in sorted(glob.glob(fp_in))]\n",
    "img.save(fp=fp_out, format='GIF', append_images=imgs, save_all=True, duration=350, loop=0)"
   ]
  },
  {
   "cell_type": "code",
   "execution_count": null,
   "metadata": {},
   "outputs": [],
   "source": []
  },
  {
   "cell_type": "code",
   "execution_count": null,
   "metadata": {},
   "outputs": [],
   "source": []
  },
  {
   "cell_type": "code",
   "execution_count": null,
   "metadata": {},
   "outputs": [],
   "source": []
  }
 ],
 "metadata": {
  "kernelspec": {
   "display_name": "PyTorch",
   "language": "python",
   "name": "pytorch"
  },
  "language_info": {
   "codemirror_mode": {
    "name": "ipython",
    "version": 3
   },
   "file_extension": ".py",
   "mimetype": "text/x-python",
   "name": "python",
   "nbconvert_exporter": "python",
   "pygments_lexer": "ipython3",
   "version": "3.6.12"
  }
 },
 "nbformat": 4,
 "nbformat_minor": 4
}
